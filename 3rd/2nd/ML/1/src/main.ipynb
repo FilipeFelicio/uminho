{
 "cells": [
  {
   "cell_type": "markdown",
   "metadata": {},
   "source": [
    "# Mini Project 1 – Banking Campaign Output Prediction\n",
    "\n",
    "#### This task is to train a Neural Network Model to predict whether a client would respond\n",
    "#### positive or negative to the campaign.\n",
    "\n",
    "#### The features contained in the dataset are as follow:\n",
    "\n",
    "    1 - age (numeric)\n",
    "    2 - job : type of job (categorical) \n",
    "    3 - marital : marital status (categorical)\n",
    "    4 - education (categorical)\n",
    "    5 - default: has credit in default? (categorical)\n",
    "    6 - housing: has housing loan? (categorical)\n",
    "    7 - loan: has personal loan? (categorical)\n",
    "    8 - contact: contact communication type (categorical)\n",
    "    9 - month: last contact month of year (categorical)\n",
    "    10 - day_of_week: last contact day of the week (categorical)\n",
    "    11 - duration: last contact duration, in seconds (numeric)\n",
    "    12 - campaign: number of contacts performed during this campaign and for this client (numeric)\n",
    "    13 - pdays: number of days that passed by after the client was last contacted from a\n",
    "    previous campaign (numeric; 999 means client was not previously contacted)\n",
    "    14 - previous: number of contacts performed before this campaign and for this client\n",
    "    (numeric)\n",
    "    15 - poutcome: outcome of the previous marketing campaign (categorical)\n",
    "    16 - emp.var.rate: employment variation rate - quarterly indicator (numeric)\n",
    "    17 - cons.price.idx: consumer price index - monthly indicator (numeric)\n",
    "    18 - cons.conf.idx: consumer confidence index - monthly indicator (numeric) \n",
    "    19 - euribor3m: euribor 3 month rate - daily indicator (numeric)\n",
    "    20 - nr.employed: number of employees - quarterly indicator (numeric)\n",
    "    21 - y (desired target): has the client subscribed a term deposit? (binary)\n",
    "    \n"
   ]
  },
  {
   "cell_type": "markdown",
   "metadata": {},
   "source": [
    "## Imports"
   ]
  },
  {
   "cell_type": "code",
   "execution_count": 1,
   "metadata": {},
   "outputs": [],
   "source": [
    "# Imports\n",
    "from pandas import read_csv\n",
    "from sklearn.model_selection import train_test_split\n",
    "from sklearn.preprocessing import LabelEncoder\n",
    "from sklearn.preprocessing import OneHotEncoder\n",
    "from keras import models\n",
    "from keras import layers\n",
    "from keras.callbacks import EarlyStopping, ModelCheckpoint\n",
    "from keras.models import Sequential\n",
    "from keras.layers import Dense\n",
    "import matplotlib.pyplot as plt"
   ]
  },
  {
   "cell_type": "markdown",
   "metadata": {},
   "source": [
    "## Data Visualization and Preprocessing"
   ]
  },
  {
   "cell_type": "code",
   "execution_count": 2,
   "metadata": {},
   "outputs": [],
   "source": [
    "# Loading the Dataset\n",
    "def load_dataset(filename, delimiter):\n",
    "    data = read_csv(filename, delimiter=delimiter)\n",
    "    dataset = data.values\n",
    "    X = dataset[:, :-1]\n",
    "    y = dataset[:,-1]\n",
    "    X = X.astype(str)\n",
    "    y = y.reshape((len(y), 1))\n",
    "    return X, y"
   ]
  },
  {
   "cell_type": "code",
   "execution_count": 3,
   "metadata": {},
   "outputs": [],
   "source": [
    "# Preparing the input data\n",
    "def prepare_inputs(X_train, X_test):\n",
    "    ohe = OneHotEncoder(handle_unknown = \"ignore\")\n",
    "    ohe.fit(X_train)\n",
    "    X_train_enc = ohe.transform(X_train)\n",
    "    X_test_enc = ohe.transform(X_test)\n",
    "    return X_train_enc, X_test_enc\n",
    " \n",
    "# Preparing the targets\n",
    "def prepare_targets(y_train, y_test):\n",
    "    le = LabelEncoder()\n",
    "    le.fit(y_train)\n",
    "    y_train_enc = le.transform(y_train)\n",
    "    y_test_enc = le.transform(y_test)\n",
    "    return y_train_enc, y_test_enc"
   ]
  },
  {
   "cell_type": "code",
   "execution_count": 4,
   "metadata": {},
   "outputs": [],
   "source": [
    "# Calling the function that loads the dataset\n",
    "X, y = load_dataset('../data/bank-additional-full.csv',';')\n",
    "# Spliting into train and test sets\n",
    "X_train, X_test, y_train, y_test = train_test_split(X, y, test_size=0.33, random_state=1)"
   ]
  },
  {
   "cell_type": "code",
   "execution_count": 5,
   "metadata": {},
   "outputs": [],
   "source": [
    "# Calling the function that prepares the input data\n",
    "X_train_enc, X_test_enc = prepare_inputs(X_train, X_test)\n",
    "# Calling the function that prepares the targets\n",
    "y_train_enc, y_test_enc = prepare_targets(y_train.ravel(), y_test.ravel())"
   ]
  },
  {
   "cell_type": "markdown",
   "metadata": {},
   "source": [
    "## Sequential Model"
   ]
  },
  {
   "cell_type": "code",
   "execution_count": 1,
   "metadata": {},
   "outputs": [
    {
     "ename": "NameError",
     "evalue": "name 'Sequential' is not defined",
     "output_type": "error",
     "traceback": [
      "\u001b[0;31m---------------------------------------------------------------------------\u001b[0m",
      "\u001b[0;31mNameError\u001b[0m                                 Traceback (most recent call last)",
      "\u001b[0;32m<ipython-input-1-23bf0d779a15>\u001b[0m in \u001b[0;36m<module>\u001b[0;34m\u001b[0m\n\u001b[1;32m      1\u001b[0m \u001b[0;31m# Defining the model\u001b[0m\u001b[0;34m\u001b[0m\u001b[0;34m\u001b[0m\u001b[0;34m\u001b[0m\u001b[0m\n\u001b[0;32m----> 2\u001b[0;31m \u001b[0mmodel\u001b[0m \u001b[0;34m=\u001b[0m \u001b[0mSequential\u001b[0m\u001b[0;34m(\u001b[0m\u001b[0;34m)\u001b[0m\u001b[0;34m\u001b[0m\u001b[0;34m\u001b[0m\u001b[0m\n\u001b[0m\u001b[1;32m      3\u001b[0m \u001b[0mmodel\u001b[0m\u001b[0;34m.\u001b[0m\u001b[0madd\u001b[0m\u001b[0;34m(\u001b[0m\u001b[0mDense\u001b[0m\u001b[0;34m(\u001b[0m\u001b[0;36m10\u001b[0m\u001b[0;34m,\u001b[0m \u001b[0minput_dim\u001b[0m\u001b[0;34m=\u001b[0m\u001b[0mX_train_enc\u001b[0m\u001b[0;34m.\u001b[0m\u001b[0mshape\u001b[0m\u001b[0;34m[\u001b[0m\u001b[0;36m1\u001b[0m\u001b[0;34m]\u001b[0m\u001b[0;34m,\u001b[0m \u001b[0mactivation\u001b[0m\u001b[0;34m=\u001b[0m\u001b[0;34m'relu'\u001b[0m\u001b[0;34m,\u001b[0m \u001b[0mkernel_initializer\u001b[0m\u001b[0;34m=\u001b[0m\u001b[0;34m'he_normal'\u001b[0m\u001b[0;34m)\u001b[0m\u001b[0;34m)\u001b[0m\u001b[0;34m\u001b[0m\u001b[0;34m\u001b[0m\u001b[0m\n\u001b[1;32m      4\u001b[0m \u001b[0mmodel\u001b[0m\u001b[0;34m.\u001b[0m\u001b[0madd\u001b[0m\u001b[0;34m(\u001b[0m\u001b[0mDense\u001b[0m\u001b[0;34m(\u001b[0m\u001b[0;36m1\u001b[0m\u001b[0;34m,\u001b[0m \u001b[0mactivation\u001b[0m\u001b[0;34m=\u001b[0m\u001b[0;34m'sigmoid'\u001b[0m\u001b[0;34m)\u001b[0m\u001b[0;34m)\u001b[0m\u001b[0;34m\u001b[0m\u001b[0;34m\u001b[0m\u001b[0m\n\u001b[1;32m      5\u001b[0m \u001b[0;34m\u001b[0m\u001b[0m\n",
      "\u001b[0;31mNameError\u001b[0m: name 'Sequential' is not defined"
     ]
    }
   ],
   "source": [
    "# Defining the model\n",
    "model = Sequential()\n",
    "model.add(Dense(16, activation='relu', input_shape=X_train_enc.shape))\n",
    "model.add(Dense(16, activation='relu'))\n",
    "model.add(Dense(1, activation='sigmoid'))\n",
    "\n",
    "# Compiling the keras model\n",
    "model.compile(loss='binary_crossentropy', optimizer='adam', metrics=['accuracy'])"
   ]
  },
  {
   "cell_type": "code",
   "execution_count": 7,
   "metadata": {},
   "outputs": [
    {
     "name": "stdout",
     "output_type": "stream",
     "text": [
      "Epoch 1/20\n",
      "276/276 [==============================] - 2s 4ms/step - loss: 0.4546 - accuracy: 0.8476 - val_loss: 0.2703 - val_accuracy: 0.8999\n",
      "Epoch 2/20\n",
      "276/276 [==============================] - 1s 2ms/step - loss: 0.2700 - accuracy: 0.9009 - val_loss: 0.2566 - val_accuracy: 0.9044\n",
      "Epoch 3/20\n",
      "276/276 [==============================] - 1s 2ms/step - loss: 0.2442 - accuracy: 0.9094 - val_loss: 0.2442 - val_accuracy: 0.9077\n",
      "Epoch 4/20\n",
      "276/276 [==============================] - 1s 2ms/step - loss: 0.2229 - accuracy: 0.9157 - val_loss: 0.2346 - val_accuracy: 0.9082\n",
      "Epoch 5/20\n",
      "276/276 [==============================] - 1s 2ms/step - loss: 0.2098 - accuracy: 0.9171 - val_loss: 0.2262 - val_accuracy: 0.9072\n",
      "Epoch 6/20\n",
      "276/276 [==============================] - 1s 2ms/step - loss: 0.1933 - accuracy: 0.9210 - val_loss: 0.2225 - val_accuracy: 0.9077\n",
      "Epoch 7/20\n",
      "276/276 [==============================] - 1s 2ms/step - loss: 0.1823 - accuracy: 0.9219 - val_loss: 0.2194 - val_accuracy: 0.9072\n",
      "Epoch 8/20\n",
      "276/276 [==============================] - 1s 2ms/step - loss: 0.1712 - accuracy: 0.9256 - val_loss: 0.2187 - val_accuracy: 0.9057\n",
      "Epoch 9/20\n",
      "276/276 [==============================] - 1s 2ms/step - loss: 0.1615 - accuracy: 0.9274 - val_loss: 0.2202 - val_accuracy: 0.9061\n",
      "Epoch 10/20\n",
      "276/276 [==============================] - 1s 2ms/step - loss: 0.1588 - accuracy: 0.9320 - val_loss: 0.2201 - val_accuracy: 0.9049\n",
      "Epoch 11/20\n",
      "276/276 [==============================] - 1s 2ms/step - loss: 0.1475 - accuracy: 0.9364 - val_loss: 0.2223 - val_accuracy: 0.9049\n",
      "Epoch 12/20\n",
      "276/276 [==============================] - 1s 2ms/step - loss: 0.1423 - accuracy: 0.9400 - val_loss: 0.2240 - val_accuracy: 0.9049\n",
      "Epoch 13/20\n",
      "276/276 [==============================] - 1s 2ms/step - loss: 0.1410 - accuracy: 0.9419 - val_loss: 0.2284 - val_accuracy: 0.9038\n",
      "Epoch 14/20\n",
      "276/276 [==============================] - 0s 2ms/step - loss: 0.1352 - accuracy: 0.9442 - val_loss: 0.2307 - val_accuracy: 0.9046\n",
      "Epoch 15/20\n",
      "276/276 [==============================] - 1s 2ms/step - loss: 0.1295 - accuracy: 0.9462 - val_loss: 0.2337 - val_accuracy: 0.9030\n",
      "Epoch 16/20\n",
      "276/276 [==============================] - 1s 2ms/step - loss: 0.1309 - accuracy: 0.9446 - val_loss: 0.2371 - val_accuracy: 0.9031\n",
      "Epoch 17/20\n",
      "276/276 [==============================] - 1s 2ms/step - loss: 0.1247 - accuracy: 0.9478 - val_loss: 0.2384 - val_accuracy: 0.9019\n",
      "Epoch 18/20\n",
      "276/276 [==============================] - 1s 2ms/step - loss: 0.1232 - accuracy: 0.9508 - val_loss: 0.2407 - val_accuracy: 0.9007\n",
      "Epoch 19/20\n",
      "276/276 [==============================] - 1s 2ms/step - loss: 0.1159 - accuracy: 0.9523 - val_loss: 0.2445 - val_accuracy: 0.9003\n",
      "Epoch 20/20\n",
      "276/276 [==============================] - 1s 2ms/step - loss: 0.1165 - accuracy: 0.9534 - val_loss: 0.2469 - val_accuracy: 0.9008\n"
     ]
    }
   ],
   "source": [
    "# Training the neural network\n",
    "history = model.fit(X_train_enc, # Features\n",
    "y_train_enc, # Target vector\n",
    "epochs=20, # Number of epochs\n",
    "verbose=1, # Print description after each epoch\n",
    "batch_size=100, # Number of observations per batch\n",
    "validation_data=(X_test_enc, y_test_enc)) # Test data"
   ]
  },
  {
   "cell_type": "markdown",
   "metadata": {},
   "source": [
    "## Visualize Training History"
   ]
  },
  {
   "cell_type": "code",
   "execution_count": 8,
   "metadata": {},
   "outputs": [],
   "source": [
    "# Getting training and test loss histories\n",
    "training_loss = history.history[\"loss\"]\n",
    "test_loss = history.history[\"val_loss\"]\n",
    "# Create count of the number of epochs\n",
    "epoch_count = range(1, len(training_loss) + 1)"
   ]
  },
  {
   "cell_type": "code",
   "execution_count": 9,
   "metadata": {},
   "outputs": [
    {
     "data": {
      "image/png": "[encoded data removed]",
      "text/plain": [
       "<Figure size 432x288 with 1 Axes>"
      ]
     },
     "metadata": {
      "needs_background": "light"
     },
     "output_type": "display_data"
    }
   ],
   "source": [
    "# Visualizing loss history\n",
    "plt.plot(epoch_count, training_loss, \"r--\")\n",
    "plt.plot(epoch_count, test_loss, \"b-\")\n",
    "plt.legend([\"Training Loss\", \"Test Loss\"])\n",
    "plt.xlabel(\"Epoch\")\n",
    "plt.ylabel(\"Loss\")\n",
    "plt.show()"
   ]
  }
 ],
 "metadata": {
  "kernelspec": {
   "display_name": "Python 3",
   "language": "python",
   "name": "python3"
  },
  "language_info": {
   "codemirror_mode": {
    "name": "ipython",
    "version": 3
   },
   "file_extension": ".py",
   "mimetype": "text/x-python",
   "name": "python",
   "nbconvert_exporter": "python",
   "pygments_lexer": "ipython3",
   "version": "3.9.1"
  }
 },
 "nbformat": 4,
 "nbformat_minor": 4
}
